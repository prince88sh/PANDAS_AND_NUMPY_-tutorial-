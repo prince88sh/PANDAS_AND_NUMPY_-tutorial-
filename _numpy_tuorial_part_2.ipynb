{
 "cells": [
  {
   "cell_type": "markdown",
   "id": "7e1eb62d",
   "metadata": {},
   "source": [
    "# ARRAY MUNUPALATION"
   ]
  },
  {
   "cell_type": "markdown",
   "id": "f614e621",
   "metadata": {},
   "source": [
    "# Array manupulation -changing shape"
   ]
  },
  {
   "cell_type": "code",
   "execution_count": 4,
   "id": "e46372c8",
   "metadata": {},
   "outputs": [
    {
     "name": "stdout",
     "output_type": "stream",
     "text": [
      "creating array of range\n",
      "[0 1 2 3 4 5 6 7 8]\n",
      "\n",
      "modified array is \n",
      "[[0 1 2]\n",
      " [3 4 5]\n",
      " [6 7 8]]\n"
     ]
    }
   ],
   "source": [
    "import numpy as np\n",
    "a=np.arange(9)\n",
    "print('creating array of range')\n",
    "print(a)\n",
    "print()\n",
    "\n",
    "b=a.reshape(3,3)            #using reshape to convert array to dimentions of 3 by 3 matrix\n",
    "print('modified array is ')\n",
    "print(b)"
   ]
  },
  {
   "cell_type": "code",
   "execution_count": 9,
   "id": "5059b9cc",
   "metadata": {},
   "outputs": [
    {
     "name": "stdout",
     "output_type": "stream",
     "text": [
      "[0 1 2 3 4 5 6 7 8]\n"
     ]
    }
   ],
   "source": [
    "c=b.flatten()               #it is used to convert matrix to array\n",
    "print(c)"
   ]
  },
  {
   "cell_type": "code",
   "execution_count": 12,
   "id": "f387aa84",
   "metadata": {},
   "outputs": [
    {
     "name": "stdout",
     "output_type": "stream",
     "text": [
      "[0 1 2 3 4 5 6 7 8]\n",
      "[0 3 6 1 4 7 2 5 8]\n",
      "[0 1 2 3 4 5 6 7 8]\n"
     ]
    }
   ],
   "source": [
    "print(b.flatten(order ='C'))           #by default\n",
    "print(b.flatten(order ='F'))           #column vs by row\n",
    "print(b.flatten(order ='A'))           #row vs by column"
   ]
  },
  {
   "cell_type": "code",
   "execution_count": 17,
   "id": "63d03a5f",
   "metadata": {},
   "outputs": [
    {
     "name": "stdout",
     "output_type": "stream",
     "text": [
      "[[ 0  1  2  3]\n",
      " [ 4  5  6  7]\n",
      " [ 8  9 10 11]]\n"
     ]
    }
   ],
   "source": [
    "a=np.arange(12).reshape(3,4)          #creating array and converting together\n",
    "print(a)"
   ]
  },
  {
   "cell_type": "code",
   "execution_count": 18,
   "id": "c513663a",
   "metadata": {},
   "outputs": [
    {
     "name": "stdout",
     "output_type": "stream",
     "text": [
      "[[ 0  4  8]\n",
      " [ 1  5  9]\n",
      " [ 2  6 10]\n",
      " [ 3  7 11]]\n"
     ]
    }
   ],
   "source": [
    "print(np.transpose(a))"
   ]
  },
  {
   "cell_type": "code",
   "execution_count": 20,
   "id": "e3217a4a",
   "metadata": {},
   "outputs": [
    {
     "name": "stdout",
     "output_type": "stream",
     "text": [
      "[[0 1 2 3]\n",
      " [4 5 6 7]]\n"
     ]
    }
   ],
   "source": [
    "b=np.arange(8).reshape(2,4)\n",
    "print(b)"
   ]
  },
  {
   "cell_type": "code",
   "execution_count": 25,
   "id": "3d086bf3",
   "metadata": {
    "scrolled": true
   },
   "outputs": [
    {
     "data": {
      "text/plain": [
       "array([[[0, 1],\n",
       "        [2, 3]],\n",
       "\n",
       "       [[4, 5],\n",
       "        [6, 7]]])"
      ]
     },
     "execution_count": 25,
     "metadata": {},
     "output_type": "execute_result"
    }
   ],
   "source": [
    "c=b.reshape(2,2,2)\n",
    "c"
   ]
  },
  {
   "cell_type": "code",
   "execution_count": 26,
   "id": "bbdfaca1",
   "metadata": {},
   "outputs": [
    {
     "data": {
      "text/plain": [
       "array([[[0, 2],\n",
       "        [1, 3]],\n",
       "\n",
       "       [[4, 6],\n",
       "        [5, 7]]])"
      ]
     },
     "execution_count": 26,
     "metadata": {},
     "output_type": "execute_result"
    }
   ],
   "source": [
    "np.rollaxis(c,2,1)"
   ]
  },
  {
   "cell_type": "code",
   "execution_count": 28,
   "id": "8095dade",
   "metadata": {},
   "outputs": [
    {
     "data": {
      "text/plain": [
       "array([[[0, 1],\n",
       "        [4, 5]],\n",
       "\n",
       "       [[2, 3],\n",
       "        [6, 7]]])"
      ]
     },
     "execution_count": 28,
     "metadata": {},
     "output_type": "execute_result"
    }
   ],
   "source": [
    "np.rollaxis(c,1)"
   ]
  },
  {
   "cell_type": "code",
   "execution_count": 31,
   "id": "4dd07991",
   "metadata": {
    "scrolled": true
   },
   "outputs": [
    {
     "data": {
      "text/plain": [
       "array([[[0, 2],\n",
       "        [1, 3]],\n",
       "\n",
       "       [[4, 6],\n",
       "        [5, 7]]])"
      ]
     },
     "execution_count": 31,
     "metadata": {},
     "output_type": "execute_result"
    }
   ],
   "source": [
    "np.swapaxes(c,1,2)"
   ]
  },
  {
   "cell_type": "markdown",
   "id": "cb8fc3ad",
   "metadata": {},
   "source": [
    "# NUMPY ARITHMETIC OPERATIONS"
   ]
  },
  {
   "cell_type": "code",
   "execution_count": 54,
   "id": "cf927d02",
   "metadata": {},
   "outputs": [
    {
     "name": "stdout",
     "output_type": "stream",
     "text": [
      "[[0 1 2]\n",
      " [3 4 5]\n",
      " [6 7 8]]\n"
     ]
    }
   ],
   "source": [
    "#creating two array\n",
    "a = np.arange(9).reshape(3,3)\n",
    "print(a)                              #array of range 3 x 3"
   ]
  },
  {
   "cell_type": "code",
   "execution_count": 61,
   "id": "63aedfcf",
   "metadata": {},
   "outputs": [
    {
     "data": {
      "text/plain": [
       "array([  10,  100, 1000])"
      ]
     },
     "execution_count": 61,
     "metadata": {},
     "output_type": "execute_result"
    }
   ],
   "source": [
    "b = np.array([10,100,1000])                                  # array of 3 x 1\n",
    "b"
   ]
  },
  {
   "cell_type": "code",
   "execution_count": 62,
   "id": "75904be5",
   "metadata": {
    "scrolled": true
   },
   "outputs": [
    {
     "data": {
      "text/plain": [
       "array([[  10,  101, 1002],\n",
       "       [  13,  104, 1005],\n",
       "       [  16,  107, 1008]])"
      ]
     },
     "execution_count": 62,
     "metadata": {},
     "output_type": "execute_result"
    }
   ],
   "source": [
    "np.add(a,b)"
   ]
  },
  {
   "cell_type": "code",
   "execution_count": 63,
   "id": "0e42e2cb",
   "metadata": {},
   "outputs": [
    {
     "data": {
      "text/plain": [
       "array([[ -10,  -99, -998],\n",
       "       [  -7,  -96, -995],\n",
       "       [  -4,  -93, -992]])"
      ]
     },
     "execution_count": 63,
     "metadata": {},
     "output_type": "execute_result"
    }
   ],
   "source": [
    "np.subtract(a,b)"
   ]
  },
  {
   "cell_type": "code",
   "execution_count": 64,
   "id": "d5714234",
   "metadata": {},
   "outputs": [
    {
     "data": {
      "text/plain": [
       "array([[   0,  100, 2000],\n",
       "       [  30,  400, 5000],\n",
       "       [  60,  700, 8000]])"
      ]
     },
     "execution_count": 64,
     "metadata": {},
     "output_type": "execute_result"
    }
   ],
   "source": [
    "np.multiply(a,b)"
   ]
  },
  {
   "cell_type": "code",
   "execution_count": 65,
   "id": "11580b37",
   "metadata": {},
   "outputs": [
    {
     "data": {
      "text/plain": [
       "array([[0.   , 0.01 , 0.002],\n",
       "       [0.3  , 0.04 , 0.005],\n",
       "       [0.6  , 0.07 , 0.008]])"
      ]
     },
     "execution_count": 65,
     "metadata": {},
     "output_type": "execute_result"
    }
   ],
   "source": [
    "np.divide(a,b)"
   ]
  },
  {
   "cell_type": "markdown",
   "id": "99eea86b",
   "metadata": {},
   "source": [
    "\n",
    "# Slicing"
   ]
  },
  {
   "cell_type": "code",
   "execution_count": 69,
   "id": "5e586312",
   "metadata": {},
   "outputs": [
    {
     "name": "stdout",
     "output_type": "stream",
     "text": [
      "[ 0  1  2  3  4  5  6  7  8  9 10 11 12 13 14 15 16 17 18 19]\n"
     ]
    }
   ],
   "source": [
    "a=np.arange(20)\n",
    "print(a)"
   ]
  },
  {
   "cell_type": "code",
   "execution_count": 73,
   "id": "d0f59542",
   "metadata": {},
   "outputs": [
    {
     "name": "stdout",
     "output_type": "stream",
     "text": [
      "[2 3 4]\n"
     ]
    }
   ],
   "source": [
    "print(a[2:5])"
   ]
  },
  {
   "cell_type": "code",
   "execution_count": 75,
   "id": "6199f9bd",
   "metadata": {},
   "outputs": [
    {
     "name": "stdout",
     "output_type": "stream",
     "text": [
      "[2 4 6 8]\n"
     ]
    }
   ],
   "source": [
    "s = slice(2,9,2)\n",
    "print(a[s])                                         #remember this slicing"
   ]
  },
  {
   "cell_type": "markdown",
   "id": "e6a68a3e",
   "metadata": {},
   "source": [
    "# iterating over an array"
   ]
  },
  {
   "cell_type": "code",
   "execution_count": 80,
   "id": "66c1903d",
   "metadata": {},
   "outputs": [
    {
     "name": "stdout",
     "output_type": "stream",
     "text": [
      "[ 0  5 10 15 20 25 30 35 40 45]\n",
      "  \n",
      "[[ 0  5 10 15 20]\n",
      " [25 30 35 40 45]]\n"
     ]
    }
   ],
   "source": [
    "a = np.arange(0,50,5)\n",
    "print(a)\n",
    "print('  ')\n",
    "a = a.reshape(2,5)\n",
    "print(a)"
   ]
  },
  {
   "cell_type": "code",
   "execution_count": 83,
   "id": "359ab808",
   "metadata": {},
   "outputs": [
    {
     "name": "stdout",
     "output_type": "stream",
     "text": [
      "0\n",
      "5\n",
      "10\n",
      "15\n",
      "20\n",
      "25\n",
      "30\n",
      "35\n",
      "40\n",
      "45\n"
     ]
    }
   ],
   "source": [
    "for i in np.nditer(a):\n",
    "  print(i)"
   ]
  },
  {
   "cell_type": "markdown",
   "id": "a9ce5848",
   "metadata": {},
   "source": [
    "# iteration order (c style and f style)"
   ]
  },
  {
   "cell_type": "code",
   "execution_count": 86,
   "id": "74128843",
   "metadata": {},
   "outputs": [
    {
     "name": "stdout",
     "output_type": "stream",
     "text": [
      "[[ 0  5 10 15 20]\n",
      " [25 30 35 40 45]]\n",
      "0\n",
      "5\n",
      "10\n",
      "15\n",
      "20\n",
      "25\n",
      "30\n",
      "35\n",
      "40\n",
      "45\n",
      " \n",
      "0\n",
      "25\n",
      "5\n",
      "30\n",
      "10\n",
      "35\n",
      "15\n",
      "40\n",
      "20\n",
      "45\n"
     ]
    }
   ],
   "source": [
    "print(a)\n",
    "for i in np.nditer(a , order = 'c'):\n",
    "  print(i)\n",
    "\n",
    "print(' ')\n",
    "\n",
    "for i in np.nditer(a , order = 'f'):                    #this change the order\n",
    "  print(i)"
   ]
  },
  {
   "cell_type": "markdown",
   "id": "0c5cc4a1",
   "metadata": {},
   "source": [
    "# joining array"
   ]
  },
  {
   "cell_type": "code",
   "execution_count": 89,
   "id": "36f77e68",
   "metadata": {},
   "outputs": [
    {
     "name": "stdout",
     "output_type": "stream",
     "text": [
      "this is 1st array :-\n",
      " [[1 2]\n",
      " [3 4]]\n",
      "\n",
      "this is 2st array :-\n",
      " [[5 5]\n",
      " [7 4]]\n"
     ]
    }
   ],
   "source": [
    "a=np.array([[1,2],[3,4]])\n",
    "print('this is 1st array :-\\n',a)\n",
    "\n",
    "b=np.array([[5,5],[7,4]])\n",
    "print('\\nthis is 2st array :-\\n',b)"
   ]
  },
  {
   "cell_type": "code",
   "execution_count": 93,
   "id": "53add498",
   "metadata": {},
   "outputs": [
    {
     "name": "stdout",
     "output_type": "stream",
     "text": [
      "\n",
      "joining two array along axes 0\n",
      "\n",
      "[[1 2]\n",
      " [3 4]\n",
      " [5 5]\n",
      " [7 4]]\n",
      "\n"
     ]
    }
   ],
   "source": [
    "print('\\njoining two array along axes 0\\n')            \n",
    "print(np.concatenate((a,b)))                           #this is used to combime two array\n",
    "                                                       #syntax     np.conatenate( (a,b),axis =0,1,2,3,4... )\n",
    "print()"
   ]
  },
  {
   "cell_type": "code",
   "execution_count": 95,
   "id": "a35fa734",
   "metadata": {},
   "outputs": [
    {
     "name": "stdout",
     "output_type": "stream",
     "text": [
      "\n",
      "joining two array along axes 1\n",
      "\n",
      "[[1 2 5 5]\n",
      " [3 4 7 4]]\n"
     ]
    }
   ],
   "source": [
    "print('\\njoining two array along axes 1\\n')\n",
    "print(np.concatenate((a,b),axis = 1))   "
   ]
  },
  {
   "cell_type": "markdown",
   "id": "26db9196",
   "metadata": {},
   "source": [
    "# splitting the array "
   ]
  },
  {
   "cell_type": "code",
   "execution_count": 97,
   "id": "abac61e4",
   "metadata": {},
   "outputs": [
    {
     "name": "stdout",
     "output_type": "stream",
     "text": [
      "[0 1 2 3 4 5 6 7 8]\n"
     ]
    }
   ],
   "source": [
    "a=np.arange(9)\n",
    "print(a)"
   ]
  },
  {
   "cell_type": "code",
   "execution_count": 98,
   "id": "a9abdce4",
   "metadata": {},
   "outputs": [
    {
     "data": {
      "text/plain": [
       "[array([0, 1, 2]), array([3, 4, 5]), array([6, 7, 8])]"
      ]
     },
     "execution_count": 98,
     "metadata": {},
     "output_type": "execute_result"
    }
   ],
   "source": [
    "np.split(a,3)"
   ]
  },
  {
   "cell_type": "code",
   "execution_count": 100,
   "id": "c02a46a8",
   "metadata": {},
   "outputs": [
    {
     "data": {
      "text/plain": [
       "[array([0, 1, 2]), array([3, 4, 5]), array([6, 7, 8])]"
      ]
     },
     "execution_count": 100,
     "metadata": {},
     "output_type": "execute_result"
    }
   ],
   "source": [
    "np.split(a,[3,6])                                       #remember this  in spliting"
   ]
  },
  {
   "cell_type": "markdown",
   "id": "51dd6e81",
   "metadata": {},
   "source": [
    "# resizing an array"
   ]
  },
  {
   "cell_type": "code",
   "execution_count": 121,
   "id": "f75b25d7",
   "metadata": {},
   "outputs": [
    {
     "name": "stdout",
     "output_type": "stream",
     "text": [
      "[[1 2 3]\n",
      " [4 5 6]]\n",
      "\n",
      "(2, 3)\n",
      "\n",
      "[[1 2]\n",
      " [3 4]\n",
      " [5 6]]\n",
      "\n",
      "[[1 2 3]\n",
      " [4 5 6]\n",
      " [1 2 3]]\n",
      "(3, 3)\n"
     ]
    }
   ],
   "source": [
    "a=np.array([[1,2,3],[4,5,6]])                       #creating an array\n",
    "print(a)\n",
    "print()\n",
    "\n",
    "print(np.shape(a) )                                      #checking the dimension\n",
    "print()\n",
    "\n",
    "b=np.resize(a,(3,2))                                   #resize the a array of 2x3 to 3x2\n",
    "print(b)\n",
    "print()\n",
    "\n",
    "b=np.resize(a,(3,3))                                   #resize the a array \n",
    "print(b)\n",
    "print(np.shape(b))"
   ]
  },
  {
   "cell_type": "markdown",
   "id": "b43e2007",
   "metadata": {},
   "source": [
    "# histogram"
   ]
  },
  {
   "cell_type": "code",
   "execution_count": 123,
   "id": "83b17760",
   "metadata": {},
   "outputs": [
    {
     "data": {
      "image/png": "[encoded data removed]",
      "text/plain": [
       "<Figure size 432x288 with 1 Axes>"
      ]
     },
     "metadata": {
      "needs_background": "light"
     },
     "output_type": "display_data"
    }
   ],
   "source": [
    "from matplotlib import pyplot as plt                 #necessary library\n",
    "a = np.array([20,87,4,40,53,74,56,11,20,40,15,79,25,27])\n",
    "plt.hist(a,bins =[0,20,40,60,80,100])\n",
    "plt.title('Histogram -1')\n",
    "plt.show()"
   ]
  },
  {
   "cell_type": "code",
   "execution_count": 125,
   "id": "917fb417",
   "metadata": {},
   "outputs": [
    {
     "data": {
      "image/png": "[encoded data removed]",
      "text/plain": [
       "<Figure size 432x288 with 1 Axes>"
      ]
     },
     "metadata": {
      "needs_background": "light"
     },
     "output_type": "display_data"
    }
   ],
   "source": [
    "plt.hist(a,bins =[0,10,20,30,40,50,60,70,80,90,100])\n",
    "plt.title('histogram')\n",
    "plt.show()"
   ]
  },
  {
   "cell_type": "markdown",
   "id": "38585a81",
   "metadata": {},
   "source": [
    "# Other useful functions in numpy"
   ]
  },
  {
   "cell_type": "code",
   "execution_count": 133,
   "id": "34164359",
   "metadata": {},
   "outputs": [
    {
     "name": "stdout",
     "output_type": "stream",
     "text": [
      "[1.         1.22222222 1.44444444 1.66666667 1.88888889 2.11111111\n",
      " 2.33333333 2.55555556 2.77777778 3.        ]\n"
     ]
    }
   ],
   "source": [
    "#linespace functions\n",
    "a=np.linspace(1,3,10)\n",
    "print(a)"
   ]
  },
  {
   "cell_type": "code",
   "execution_count": 139,
   "id": "e8eb4520",
   "metadata": {},
   "outputs": [
    {
     "name": "stdout",
     "output_type": "stream",
     "text": [
      "[[1 2 3]\n",
      " [4 5 6]] \n",
      "\n",
      "[5 7 9]\n"
     ]
    }
   ],
   "source": [
    "#sum of axisa\n",
    "a =np.array([[1,2,3],[4,5,6]])\n",
    "print(a, \"\\n\")\n",
    "print(a.sum(axis=0))                    #this is the functions"
   ]
  },
  {
   "cell_type": "code",
   "execution_count": 141,
   "id": "c08ddf8f",
   "metadata": {},
   "outputs": [
    {
     "name": "stdout",
     "output_type": "stream",
     "text": [
      "[[1.         1.41421356 1.73205081]\n",
      " [2.         2.23606798 2.44948974]]\n",
      "1.707825127659933\n"
     ]
    }
   ],
   "source": [
    "#square root and deviations functions\n",
    "a =np.array([[1,2,3],[4,5,6]])\n",
    "print(np.sqrt(a))                        #sqrt fn for a\n",
    "print(np.std(a))                         #diviations of each element     "
   ]
  },
  {
   "cell_type": "code",
   "execution_count": 147,
   "id": "6d554580",
   "metadata": {},
   "outputs": [
    {
     "name": "stdout",
     "output_type": "stream",
     "text": [
      "[1 2 3 4 5 6]\n"
     ]
    }
   ],
   "source": [
    "#ravel function\n",
    "import numpy as np\n",
    "x=np.array([[1,2,3],[4,5,6]])\n",
    "print(np.ravel(a))"
   ]
  },
  {
   "cell_type": "code",
   "execution_count": 148,
   "id": "82ea4b77",
   "metadata": {},
   "outputs": [
    {
     "name": "stdout",
     "output_type": "stream",
     "text": [
      "[[0.         0.30103    0.47712125]\n",
      " [0.60205999 0.69897    0.77815125]]\n"
     ]
    }
   ],
   "source": [
    "a =np.array([[1,2,3],[4,5,6]])\n",
    "print(np.log10(a))"
   ]
  },
  {
   "cell_type": "markdown",
   "id": "4466498c",
   "metadata": {},
   "source": [
    "# numpy pactice example"
   ]
  },
  {
   "cell_type": "code",
   "execution_count": 153,
   "id": "5bb1c1c5",
   "metadata": {},
   "outputs": [
    {
     "name": "stdout",
     "output_type": "stream",
     "text": [
      " \n",
      "[0.  0.1 0.2 0.3 0.4 0.5 0.6 0.7 0.8 0.9 1.  1.1 1.2 1.3 1.4 1.5 1.6 1.7\n",
      " 1.8 1.9 2.  2.1 2.2 2.3 2.4 2.5 2.6 2.7 2.8 2.9 3.  3.1 3.2 3.3 3.4 3.5\n",
      " 3.6 3.7 3.8 3.9 4.  4.1 4.2 4.3 4.4 4.5 4.6 4.7 4.8 4.9 5.  5.1 5.2 5.3\n",
      " 5.4 5.5 5.6 5.7 5.8 5.9 6.  6.1 6.2 6.3 6.4 6.5 6.6 6.7 6.8 6.9 7.  7.1\n",
      " 7.2 7.3 7.4 7.5 7.6 7.7 7.8 7.9 8.  8.1 8.2 8.3 8.4 8.5 8.6 8.7 8.8 8.9\n",
      " 9.  9.1 9.2 9.3 9.4]\n",
      "[ 0.          0.09983342  0.19866933  0.29552021  0.38941834  0.47942554\n",
      "  0.56464247  0.64421769  0.71735609  0.78332691  0.84147098  0.89120736\n",
      "  0.93203909  0.96355819  0.98544973  0.99749499  0.9995736   0.99166481\n",
      "  0.97384763  0.94630009  0.90929743  0.86320937  0.8084964   0.74570521\n",
      "  0.67546318  0.59847214  0.51550137  0.42737988  0.33498815  0.23924933\n",
      "  0.14112001  0.04158066 -0.05837414 -0.15774569 -0.2555411  -0.35078323\n",
      " -0.44252044 -0.52983614 -0.61185789 -0.68776616 -0.7568025  -0.81827711\n",
      " -0.87157577 -0.91616594 -0.95160207 -0.97753012 -0.993691   -0.99992326\n",
      " -0.99616461 -0.98245261 -0.95892427 -0.92581468 -0.88345466 -0.83226744\n",
      " -0.77276449 -0.70554033 -0.63126664 -0.55068554 -0.46460218 -0.37387666\n",
      " -0.2794155  -0.1821625  -0.0830894   0.0168139   0.1165492   0.21511999\n",
      "  0.31154136  0.40484992  0.49411335  0.57843976  0.6569866   0.72896904\n",
      "  0.79366786  0.85043662  0.8987081   0.93799998  0.96791967  0.98816823\n",
      "  0.99854335  0.99894134  0.98935825  0.96988981  0.94073056  0.90217183\n",
      "  0.85459891  0.79848711  0.7343971   0.66296923  0.58491719  0.50102086\n",
      "  0.41211849  0.31909836  0.22288991  0.12445442  0.02477543]\n"
     ]
    },
    {
     "data": {
      "image/png": "[encoded data removed]",
      "text/plain": [
       "<Figure size 432x288 with 1 Axes>"
      ]
     },
     "metadata": {
      "needs_background": "light"
     },
     "output_type": "display_data"
    }
   ],
   "source": [
    "#importing library numpy anf matplotlib .lets us try to plot a sin graph\n",
    "import numpy as np\n",
    "from matplotlib import pyplot as plt\n",
    "\n",
    "x=np.arange(0,3*np.pi,0.1)\n",
    "y=np.sin(x)\n",
    "print(' ')\n",
    "print(x)\n",
    "print(y)\n",
    "\n",
    "plt.plot(x,y)\n",
    "plt.show()"
   ]
  },
  {
   "cell_type": "code",
   "execution_count": 159,
   "id": "e0cd7169",
   "metadata": {},
   "outputs": [
    {
     "name": "stdout",
     "output_type": "stream",
     "text": [
      "[[0 0 0 0 0 0]\n",
      " [0 0 0 0 0 0]\n",
      " [0 0 0 0 0 0]\n",
      " [0 0 0 0 0 0]\n",
      " [0 0 0 0 0 0]\n",
      " [0 0 0 0 0 0]]\n"
     ]
    },
    {
     "data": {
      "text/plain": [
       "array([[0, 1, 0, 1, 0, 1],\n",
       "       [1, 0, 1, 0, 1, 0],\n",
       "       [0, 1, 0, 1, 0, 1],\n",
       "       [1, 0, 1, 0, 1, 0],\n",
       "       [0, 1, 0, 1, 0, 1],\n",
       "       [1, 0, 1, 0, 1, 0]])"
      ]
     },
     "execution_count": 159,
     "metadata": {},
     "output_type": "execute_result"
    }
   ],
   "source": [
    "# create a 6*6 two dimentional array and let 1 and 0 br placed alternatively across the diagonals\n",
    "a=np.zeros((6,6),dtype = int)\n",
    "print(a)\n",
    "a[1::2,::2]=1\n",
    "a[::2,1::2]=1\n",
    "a"
   ]
  },
  {
   "cell_type": "code",
   "execution_count": 168,
   "id": "fb6e69ae",
   "metadata": {},
   "outputs": [
    {
     "name": "stdout",
     "output_type": "stream",
     "text": [
      "[[0.48124393        nan 0.1748468  0.50291027 0.41221756 0.16932707\n",
      "  0.12088066 0.58194125 0.36720251 0.26085003]\n",
      " [0.94532355 0.37462349 0.12323415 0.98087494 0.99642076 0.87504917\n",
      "  0.89503046        nan 0.30211471 0.51185426]\n",
      " [0.19947363 0.843846   0.21853698 0.3981692  0.90004608 0.15390975\n",
      "  0.85694776 0.86557926 0.30022619 0.53656598]\n",
      " [0.51969202 0.12359619 0.44909747 0.60211264 0.89401496 0.18952749\n",
      "  0.66690259 0.71138615 0.45923291 0.0331962 ]\n",
      " [       nan 0.32293122 0.50816292 0.97263907 0.36340942 0.15032726\n",
      "  0.17088522 0.06171781 0.73669447 0.3426009 ]\n",
      " [       nan 0.33572241 0.04113714 0.92279498 0.10789677 0.33151032\n",
      "  0.10522422 0.9354412  0.61812864 0.54612713]\n",
      " [0.27812625 0.07896696 0.81970987 0.59097588 0.12817506 0.6339727\n",
      "  0.78951206 0.42434177 0.83433154 0.14166876]\n",
      " [0.22187006 0.80951652 0.90670599 0.88628816 0.96845373 0.3898655\n",
      "  0.44958548 0.43646524 0.86342201 0.46460274]\n",
      " [0.71389996 0.72127158 0.65426543 0.06690683 0.17204604 0.43042528\n",
      "  0.73326358 0.23014341 0.24533455 0.98326329]\n",
      " [0.16823048 0.05999596 0.26843209 0.44702561 0.88174895 0.09578034\n",
      "  0.08631885 0.80306824        nan 0.47684455]]\n",
      "\n",
      "Total number of missing values : \n",
      " 5\n"
     ]
    },
    {
     "ename": "AttributeError",
     "evalue": "module 'numpy' has no attribute 'argswhere'",
     "output_type": "error",
     "traceback": [
      "\u001b[1;31m---------------------------------------------------------------------------\u001b[0m",
      "\u001b[1;31mAttributeError\u001b[0m                            Traceback (most recent call last)",
      "\u001b[1;32m~\\AppData\\Local\\Temp/ipykernel_22840/3117685523.py\u001b[0m in \u001b[0;36m<module>\u001b[1;34m\u001b[0m\n\u001b[0;32m      4\u001b[0m \u001b[0mprint\u001b[0m\u001b[1;33m(\u001b[0m\u001b[0ma\u001b[0m\u001b[1;33m)\u001b[0m\u001b[1;33m\u001b[0m\u001b[1;33m\u001b[0m\u001b[0m\n\u001b[0;32m      5\u001b[0m \u001b[0mprint\u001b[0m\u001b[1;33m(\u001b[0m\u001b[1;34m\"\\nTotal number of missing values : \\n\"\u001b[0m\u001b[1;33m,\u001b[0m\u001b[0mnp\u001b[0m\u001b[1;33m.\u001b[0m\u001b[0misnan\u001b[0m\u001b[1;33m(\u001b[0m\u001b[0ma\u001b[0m\u001b[1;33m)\u001b[0m\u001b[1;33m.\u001b[0m\u001b[0msum\u001b[0m\u001b[1;33m(\u001b[0m\u001b[1;33m)\u001b[0m\u001b[1;33m)\u001b[0m          \u001b[1;31m#to sum all the nan value\u001b[0m\u001b[1;33m\u001b[0m\u001b[1;33m\u001b[0m\u001b[0m\n\u001b[1;32m----> 6\u001b[1;33m \u001b[0mprint\u001b[0m\u001b[1;33m(\u001b[0m\u001b[1;34m'indexes of missing values :\\n'\u001b[0m\u001b[1;33m,\u001b[0m\u001b[0mnp\u001b[0m\u001b[1;33m.\u001b[0m\u001b[0margswhere\u001b[0m\u001b[1;33m(\u001b[0m\u001b[0mnp\u001b[0m\u001b[1;33m.\u001b[0m\u001b[0misnan\u001b[0m\u001b[1;33m(\u001b[0m\u001b[0ma\u001b[0m\u001b[1;33m)\u001b[0m\u001b[1;33m)\u001b[0m\u001b[1;33m)\u001b[0m          \u001b[1;31m#to print index of nan\u001b[0m\u001b[1;33m\u001b[0m\u001b[1;33m\u001b[0m\u001b[0m\n\u001b[0m",
      "\u001b[1;32m~\\anaconda3\\lib\\site-packages\\numpy\\__init__.py\u001b[0m in \u001b[0;36m__getattr__\u001b[1;34m(attr)\u001b[0m\n\u001b[0;32m    301\u001b[0m                 \u001b[1;32mreturn\u001b[0m \u001b[0mTester\u001b[0m\u001b[1;33m\u001b[0m\u001b[1;33m\u001b[0m\u001b[0m\n\u001b[0;32m    302\u001b[0m \u001b[1;33m\u001b[0m\u001b[0m\n\u001b[1;32m--> 303\u001b[1;33m             raise AttributeError(\"module {!r} has no attribute \"\n\u001b[0m\u001b[0;32m    304\u001b[0m                                  \"{!r}\".format(__name__, attr))\n\u001b[0;32m    305\u001b[0m \u001b[1;33m\u001b[0m\u001b[0m\n",
      "\u001b[1;31mAttributeError\u001b[0m: module 'numpy' has no attribute 'argswhere'"
     ]
    }
   ],
   "source": [
    "#find the total number and locations of missing values in the array\n",
    "a=np.random.rand(10,10)               #10x 10 random array\n",
    "a[np.random.randint(10,size=5),np.random.randint(10,size=5)]= np.nan\n",
    "print(a)\n",
    "print(\"\\nTotal number of missing values : \\n\",np.isnan(a).sum())          #to sum all the nan value\n",
    "print('indexes of missing values :\\n',np.argswhere(np.isnan(a)))          #to print index of nan"
   ]
  },
  {
   "cell_type": "code",
   "execution_count": null,
   "id": "8a484e51",
   "metadata": {},
   "outputs": [],
   "source": []
  }
 ],
 "metadata": {
  "kernelspec": {
   "display_name": "Python 3 (ipykernel)",
   "language": "python",
   "name": "python3"
  },
  "language_info": {
   "codemirror_mode": {
    "name": "ipython",
    "version": 3
   },
   "file_extension": ".py",
   "mimetype": "text/x-python",
   "name": "python",
   "nbconvert_exporter": "python",
   "pygments_lexer": "ipython3",
   "version": "3.9.7"
  }
 },
 "nbformat": 4,
 "nbformat_minor": 5
}
